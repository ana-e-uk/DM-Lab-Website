{
 "cells": [
  {
   "cell_type": "code",
   "execution_count": null,
   "metadata": {},
   "outputs": [],
   "source": [
    "import pandas as pd\n",
    "data = pd.read_csv('data/examples/sample_full_traj_59-Scan-50%_edge_node_df.csv')  # Update 'your_data.csv' with your CSV file path\n",
    "locations = data[['latitude', 'longitude']]"
   ]
  }
 ],
 "metadata": {
  "language_info": {
   "name": "python"
  }
 },
 "nbformat": 4,
 "nbformat_minor": 2
}
