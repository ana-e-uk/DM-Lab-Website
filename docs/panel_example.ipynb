{
 "cells": [
  {
   "cell_type": "markdown",
   "metadata": {},
   "source": [
    "# General Panel Script Structure\n",
    "\n",
    "This notebook provides an example of the structure of each module's Panel script code within the `panel-scripts` folder.\n",
    "\n",
    "Each module has their own file with the following structure:\n",
    "\n",
    "** ADD general structure **"
   ]
  },
  {
   "cell_type": "markdown",
   "metadata": {},
   "source": [
    "# Panel Script Example"
   ]
  },
  {
   "cell_type": "markdown",
   "metadata": {},
   "source": []
  }
 ],
 "metadata": {
  "language_info": {
   "name": "python"
  }
 },
 "nbformat": 4,
 "nbformat_minor": 2
}
