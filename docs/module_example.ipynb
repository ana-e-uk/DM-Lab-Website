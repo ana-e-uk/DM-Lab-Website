{
 "cells": [
  {
   "cell_type": "markdown",
   "metadata": {},
   "source": [
    "# General Module Structure\n",
    "\n",
    "This notebook provides an example of the structure of each module's code within the `module-scripts` folder.\n",
    "\n",
    "Each module has their own folder. The code is split into three main Python files:\n",
    "* constants.py\n",
    "* main.py\n",
    "* visualization.py\n",
    "\n",
    "### constants.py\n",
    "This file holds all the constants used in data processing and visualization including Panel instructions, page title, visualization descriptions, color themes, etc..\n",
    "\n",
    "### main.py\n",
    "This files holds all the functions needed to produce the output for a module.\n",
    "\n",
    "### visualization.py\n",
    "This file holds the specific functions needed to visualize the output on the website (some visualization functions are general and are in the utils folder). These funcitions are called by the module's panel script to generate the module's web-page/dashboard."
   ]
  },
  {
   "cell_type": "markdown",
   "metadata": {},
   "source": [
    "# Module Example\n",
    "\n",
    "** Provide general example **"
   ]
  },
  {
   "cell_type": "markdown",
   "metadata": {},
   "source": []
  }
 ],
 "metadata": {
  "language_info": {
   "name": "python"
  }
 },
 "nbformat": 4,
 "nbformat_minor": 2
}
