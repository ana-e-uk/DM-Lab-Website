{
 "cells": [
  {
   "cell_type": "markdown",
   "metadata": {},
   "source": [
    "# General Module Structure\n",
    "\n",
    "This notebook provides an example of the structure of each module's code within the `module-scripts` folder.\n",
    "\n",
    "Each module has their own folder. The code is split into four main Python files:\n",
    "* constants.py\n",
    "* main.py\n",
    "* module_pn.py\n",
    "* visualization.py\n",
    "\n",
    "### constants.py\n",
    "This file holds all the constants used in data processing and visualization including Panel instructions, page title, visualization descriptions, etc.. Note some constants are the same across modules (eg. color themes) so they can be grabbed by `module-scripts/main.py` directly from `utils/constants.py`.\n",
    "\n",
    "### module_pn.py\n",
    "This file has the code that provides the Panel dashboard for the specific module.\n",
    "\n",
    "### main.py\n",
    "This files holds all the functions needed to produce the output data for a module.\n",
    "\n",
    "### visualization.py\n",
    "This file holds the specific functions needed to visualize the output on the website (some visualization functions are general and are in the utils folder to avoid having similar or the same functions in each `module-scripts/visualization.py`). These funcitions are called by the module's panel script: `panel-script/module_pn.py` to generate the module's web-page/dashboard."
   ]
  },
  {
   "cell_type": "markdown",
   "metadata": {},
   "source": [
    "# Module Example\n",
    "\n",
    "** Provide general example **"
   ]
  },
  {
   "cell_type": "markdown",
   "metadata": {},
   "source": []
  }
 ],
 "metadata": {
  "language_info": {
   "name": "python"
  }
 },
 "nbformat": 4,
 "nbformat_minor": 2
}
