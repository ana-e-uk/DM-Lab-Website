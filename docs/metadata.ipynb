{
 "cells": [
  {
   "cell_type": "markdown",
   "metadata": {},
   "source": [
    "# Metadata\n",
    "\n",
    "This notebook contains the code documentation and description of implementation for the **metadata** module."
   ]
  },
  {
   "cell_type": "markdown",
   "metadata": {},
   "source": [
    "---"
   ]
  },
  {
   "cell_type": "markdown",
   "metadata": {},
   "source": [
    "### Code Documentation"
   ]
  },
  {
   "cell_type": "markdown",
   "metadata": {},
   "source": [
    "** ADD code documentation here **"
   ]
  },
  {
   "cell_type": "markdown",
   "metadata": {},
   "source": [
    "---"
   ]
  },
  {
   "cell_type": "markdown",
   "metadata": {},
   "source": [
    "### Implementation"
   ]
  },
  {
   "cell_type": "markdown",
   "metadata": {},
   "source": [
    "##### Input\n",
    "* GPS trajectories with the following information:\n",
    "    * location - latitude and longitude for each point\n",
    "    * ...\n",
    "\n",
    "##### Output\n",
    "As output, a subset of functional and structural metadata will be calculated from the GPS trajectories:\n",
    "\n",
    "**Functional Metadata**\n",
    "* Traffic\n",
    "* ...\n",
    "\n",
    "**Structural Metadata**\n",
    "* The lenght of a road segment\n",
    "* The number of lanes\n",
    "* Driving directions such as turn restrictions in a road\n",
    "* The presence of stop signs\n",
    "* ..."
   ]
  },
  {
   "cell_type": "markdown",
   "metadata": {},
   "source": [
    "##### Implementation\n",
    "\n",
    "**Initial Data Processing**\n",
    "\n",
    "First, we extract information from the GPS trajectories:\n",
    "\n",
    "**Functional Metadata**\n",
    "\n",
    "To compute functional metadata, we ...\n",
    "\n",
    "**Structural Metadata**\n",
    "\n",
    "To compute structural metadata, we ..."
   ]
  },
  {
   "cell_type": "markdown",
   "metadata": {},
   "source": [
    "___"
   ]
  }
 ],
 "metadata": {
  "language_info": {
   "name": "python"
  }
 },
 "nbformat": 4,
 "nbformat_minor": 2
}
