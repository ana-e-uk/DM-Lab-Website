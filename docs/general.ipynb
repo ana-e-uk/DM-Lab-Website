{
 "cells": [
  {
   "cell_type": "markdown",
   "metadata": {},
   "source": [
    "# General Documentation\n",
    "\n",
    "This notebook can hold a more detailed description of the website and goals in general."
   ]
  },
  {
   "cell_type": "markdown",
   "metadata": {},
   "source": [
    "`Panel` ([link](https://panel.holoviz.org/index.html)) is used to create the website:\n",
    "\n",
    "The `folium` package ([link](https://python-visualization.github.io/folium/latest/index.html)) will be used within `Panel` to visualize data on an interactive leaflet map.\n",
    "\n",
    "We might use `param` [link](https://param.holoviz.org) to help us code\n",
    "\n",
    "\n",
    "Other links and resources:\n",
    "OSM code that might have test code we can used to test our app: [link](https://osmcode.org)\n"
   ]
  },
  {
   "cell_type": "markdown",
   "metadata": {},
   "source": []
  }
 ],
 "metadata": {
  "language_info": {
   "name": "python"
  }
 },
 "nbformat": 4,
 "nbformat_minor": 2
}
